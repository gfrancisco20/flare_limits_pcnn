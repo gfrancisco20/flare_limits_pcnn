{
 "cells": [
  {
   "cell_type": "markdown",
   "metadata": {},
   "source": [
    "# CV Fold Preparation\n",
    "\n",
    "This notebook prepare independant and balanced CV folds for full-disk flare forecast models.\n",
    "\n",
    "We successively compute and store :  \n",
    "-  windows labels and features   \n",
    "   --> stored in F_PATH_WINDOWS, computed from flare catalog stored in PATH_FLCATALOG   \n",
    "   --> computed in notebook cell 'Folds building > Raw Balanced Folds' \n",
    "     \n",
    "-  chunks   \n",
    "   --> stored in F_PATH_CHUNKS   \n",
    "   --> computed in notebook cell 'Folds building > Raw Balanced Folds'  \n",
    "     \n",
    "-  maps of the optimal allocation of the chunks to the CV-fols   \n",
    "   --> stored in F_PATH_ALLOC   \n",
    "   --> computed in notebook cell 'Folds building > Raw Balanced Folds'  \n",
    "     \n",
    "-  climatological rates, used as composition targets for final validation folds   \n",
    "   --> stored in PATH_CR_RATES   \n",
    "   --> computed in notebook cell 'Folds building > Climmatological Rates'  \n",
    "     \n",
    "-  final training and validation folds  \n",
    "   --> stored in F_PATH_FOLDS   \n",
    "   --> computed in notebook cell 'Folds building > Final Folds'      \n",
    "     \n",
    "-  Operational test set   \n",
    "   --> stored in F_PATH_TEST     \n",
    "   --> computed in notebook cell 'Folds building > Final Folds'  \n",
    "     "
   ]
  },
  {
   "cell_type": "markdown",
   "metadata": {},
   "source": [
    "# Config"
   ]
  },
  {
   "cell_type": "code",
   "execution_count": 1,
   "metadata": {},
   "outputs": [],
   "source": [
    "COLAB = False\n",
    "\n",
    "if COLAB : \n",
    "  configSetup = {\n",
    "      'COLAB'           : 'True',\n",
    "      'PATH_ROOT_DRIVE' : '/content/drive/MyDrive/Projects/Forecast',\n",
    "      'PATH_ROOT_LOCAL' : '/content/session',\n",
    "      'PATH_SUNDL'      : '/content/sundl',\n",
    "      'PATH_PROJECT'    : '/content/flare_limits_pcnn'\n",
    "  }\n",
    "  !git clone https://github.com/gfrancisco20/sundl.git\n",
    "  !git clone https://github.com/gfrancisco20/flare_limits_pcnn.git\n",
    "  import sys\n",
    "  import re\n",
    "  sys.path.append(configSetup['PATH_SUNDL'])\n",
    "  sys.path.append(configSetup['PATH_PROJECT'])\n",
    "  configFile = f'{configSetup[\"PATH_PROJECT\"]}/config.py'\n",
    "  with open(configFile, 'r') as file:\n",
    "    content = file.read()\n",
    "  for constant in configSetup.keys():\n",
    "    content = re.sub(re.compile(f'{constant} = .*'), f'{constant} = \\'{configSetup[constant]}\\'', content)\n",
    "  with open(configFile, 'w') as file:\n",
    "    file.write(content)\n",
    "   \n",
    "from config import *\n",
    "if COLAB:\n",
    "  from sundl.utils.colab import mountDrive\n",
    "  # mouting drive content in session on colab\n",
    "  mountDrive()"
   ]
  },
  {
   "cell_type": "markdown",
   "metadata": {},
   "source": [
    "# Libraries"
   ]
  },
  {
   "cell_type": "code",
   "execution_count": 2,
   "metadata": {},
   "outputs": [
    {
     "name": "stderr",
     "output_type": "stream",
     "text": [
      "2024-04-18 19:55:09.775663: I tensorflow/core/platform/cpu_feature_guard.cc:182] This TensorFlow binary is optimized to use available CPU instructions in performance-critical operations.\n",
      "To enable the following instructions: AVX2 FMA, in other operations, rebuild TensorFlow with the appropriate compiler flags.\n"
     ]
    }
   ],
   "source": [
    "from pathlib import Path\n",
    "import datetime\n",
    "import pandas as pd\n",
    "import seaborn as sns\n",
    "import matplotlib.pyplot as plt\n",
    "import dill as pickle\n",
    "\n",
    "from sundl.utils.data import read_Dataframe_With_Dates"
   ]
  },
  {
   "cell_type": "markdown",
   "metadata": {},
   "source": [
    "# Folds building"
   ]
  },
  {
   "cell_type": "markdown",
   "metadata": {},
   "source": [
    "## Raw Balanced Folds"
   ]
  },
  {
   "cell_type": "code",
   "execution_count": 3,
   "metadata": {},
   "outputs": [
    {
     "name": "stdout",
     "output_type": "stream",
     "text": [
      "2010-05-13 00:00:00 2023-04-19 00:00:00\n",
      "\n",
      "\n",
      " FOLDS BALANCING - mpf - 24H : \n",
      "\n",
      " CV-period Climatological Rates : \n",
      "quiet-flares samples: 8344 (19.75%)\n",
      "B-flares samples: 11614 (27.50%)\n",
      "C-flares samples: 15794 (37.39%)\n",
      "M-flares samples: 5713 (13.53%)\n",
      "X-flares samples: 774 (1.83%)\n",
      "chunks :  Empty DataFrame\n",
      "Columns: [chunkId, start, end, quiet, B, C, M, X]\n",
      "Index: []\n",
      "\n",
      " Balanced folds compositions\n",
      "\n",
      "FOLD 0:\n",
      "quiet-flares samples: 1310 (22.49%)\n",
      "B-flares samples: 1785 (30.64%)\n",
      "C-flares samples: 1795 (30.81%)\n",
      "M-flares samples: 813 (13.95%)\n",
      "X-flares samples: 123 (2.11%)\n",
      "\n",
      "FOLD 1:\n",
      "quiet-flares samples: 1285 (18.91%)\n",
      "B-flares samples: 1582 (23.27%)\n",
      "C-flares samples: 3000 (44.14%)\n",
      "M-flares samples: 812 (11.95%)\n",
      "X-flares samples: 118 (1.74%)\n",
      "\n",
      "FOLD 2:\n",
      "quiet-flares samples: 1375 (23.60%)\n",
      "B-flares samples: 1309 (22.47%)\n",
      "C-flares samples: 2125 (36.47%)\n",
      "M-flares samples: 909 (15.60%)\n",
      "X-flares samples: 108 (1.85%)\n",
      "\n",
      "FOLD 3:\n",
      "quiet-flares samples: 1285 (19.59%)\n",
      "B-flares samples: 1994 (30.40%)\n",
      "C-flares samples: 2229 (33.98%)\n",
      "M-flares samples: 941 (14.35%)\n",
      "X-flares samples: 110 (1.68%)\n",
      "\n",
      "FOLD 4:\n",
      "quiet-flares samples: 1317 (19.38%)\n",
      "B-flares samples: 1835 (27.00%)\n",
      "C-flares samples: 2714 (39.93%)\n",
      "M-flares samples: 818 (12.03%)\n",
      "X-flares samples: 113 (1.66%)\n",
      "CPU times: user 40 s, sys: 895 ms, total: 40.9 s\n",
      "Wall time: 44.4 s\n"
     ]
    }
   ],
   "source": [
    "%%time\n",
    "from sundl.utils.flare.thresholds import mpfTresh, totehTresh\n",
    "from sundl.utils.flare.windows import windowHistoryFromFlList\n",
    "from sundl.utils.flare import flux2cls\n",
    "from sundl.cv.temporal import buildChunks, chunks2fold_balancedAllocation, instantiateFolds\n",
    "\n",
    "windowSizesH  = [24]                        # size of the time-windows in which we do forecasts (in hours)\n",
    "labelCols     = ['mpf']                     # column name used to compute labels\n",
    "testSplitDate = datetime.datetime(2020,1,1) # splitting date between CV and operational test\n",
    "buffer        = pd.DateOffset(days=27)      # size of discarded buffer between temporal chunks (ensure folds indepedancy)\n",
    "chunk_width   = pd.DateOffset(days=81)      # size of temporal chunks\n",
    "n_fold        = 5                           # number of folds for CV\n",
    "\n",
    "# less importance is given to balance C and B \n",
    "# as they can easily be complementaryy balanced with undersapmling\n",
    "clsBalanceImportance = {'X':4, \n",
    "                        'M':2, \n",
    "                        'C':1, \n",
    "                        'B':1, \n",
    "                        'quiet':4}\n",
    "\n",
    "force_rebuild = True\n",
    "\n",
    "minDate = pd.to_datetime('2010-05-13 00:00:00')\n",
    "maxDate = pd.to_datetime('2023-04-19 00:00:00')\n",
    "# if dataset unzipped, from \n",
    "# from sundl.utils.data import loadMinMaxDates\n",
    "# minDate, maxDate = loadMinMaxDates(PATH_IMAGES)\n",
    "\n",
    "for window_h in windowSizesH:\n",
    "  for labelCol in labelCols:\n",
    "    if labelCol == 'mpf':\n",
    "      clsTresholds  = mpfTresh\n",
    "    else:\n",
    "      clsTresholds  = totehTresh[window_h]\n",
    "      \n",
    "  windowsPath = F_PATH_WINDOWS(labelCol, window_h)\n",
    "  chunkPath = F_PATH_CHUNKS(labelCol, window_h)\n",
    "  folldAllocPath = F_PATH_ALLOC(labelCol, window_h)\n",
    "  \n",
    "  print(minDate, maxDate)\n",
    "  if chunkPath.exists() and not force_rebuild:\n",
    "    # Read chunks and maps to folds if already commputed\n",
    "    fl_history = read_Dataframe_With_Dates(windowsPath)\n",
    "    chunks = read_Dataframe_With_Dates(chunkPath,['start','end'])\n",
    "    chunks2foldsAlloc = read_Dataframe_With_Dates(foldsPath)\n",
    "  else:\n",
    "    print(f'\\n\\n FOLDS BALANCING - {labelCol} - {window_h}H : ')\n",
    "    # Flare catalog\n",
    "    flCatalog = read_Dataframe_With_Dates(PATH_FLCATALOG)\n",
    "    \n",
    "    # Compute flare history / windows features\n",
    "    fl_history = windowHistoryFromFlList(flCatalog, \n",
    "                                         window_h = window_h, \n",
    "                                         timeRes_h = 2, \n",
    "                                         minDate =  minDate, \n",
    "                                         maxDate = maxDate\n",
    "                                         )\n",
    "    fl_history['cls'] =  fl_history[labelCol].apply(lambda x: flux2cls(x, False, clsRangeDict = clsTresholds))\n",
    "    fl_history.to_csv(windowsPath)\n",
    "    \n",
    "    # Build Chunks\n",
    "    print('\\n CV-period Climatological Rates : ')\n",
    "    chunks = buildChunks(fl_history[fl_history.index < testSplitDate],\n",
    "                         clsTresholds,\n",
    "                         buffer,\n",
    "                         chunk_width,\n",
    "                         colIdCls = 'cls')\n",
    "    chunks.to_csv(chunkPath)\n",
    "    \n",
    "    # Chunks-to-folds allocation with balancing with an emphasis to balancee X and M classes\n",
    "    chunks2foldsAlloc = chunks2fold_balancedAllocation(chunks = chunks,\n",
    "                                                       n_fold = n_fold,\n",
    "                                                       clsBalanceImportance = clsBalanceImportance\n",
    "                                                      )\n",
    "    chunks2foldsAlloc.to_csv(folldAllocPath)\n",
    "    \n",
    "  # Instantiate balanced folds \n",
    "  print('\\n Balanced folds compositions')\n",
    "  # We do not save the raw folds as they are redundant with fl_history and quick to instantiate\n",
    "  dfFolds, dfTest = instantiateFolds(fl_history, \n",
    "                                     chunks,\n",
    "                                     chunks2foldsAlloc, \n",
    "                                     testSplitDate, \n",
    "                                     buffer,\n",
    "                                     mpfTresh.keys())\n",
    "            "
   ]
  },
  {
   "cell_type": "markdown",
   "metadata": {},
   "source": [
    "### Plot"
   ]
  },
  {
   "cell_type": "code",
   "execution_count": 1,
   "metadata": {},
   "outputs": [],
   "source": [
    "# sns.set(style=\"whitegrid\")\n",
    "# figsize=(12, 7)\n",
    "# plt.rcParams['font.size'] = 30\n",
    "\n",
    "# chunks2foldsAlloc = dfTestCount\n",
    "# chunks2foldsAlloc['tot'] = chunks2foldsAlloc['X'] + chunks2foldsAlloc['M'] + chunks2foldsAlloc['C'] + chunks2foldsAlloc['B'] + chunks2foldsAlloc['quiet']\n",
    "# # for cls in clsBalanceImportance.keys():\n",
    "# #   chunks2foldsAlloc[cls+'_‰'] = np.round(1000 * chunks2foldsAlloc[cls] / chunks2foldsAlloc['tot'])\n",
    "\n",
    "# ax = chunks2foldsAlloc[['X',\t'M',\t'C',\t'B',\t'quiet']].plot.barh(figsize=figsize,color = sns.color_palette('coolwarm'))\n",
    "# ax.set_title('Test Set Composition')\n",
    "# ax.set_xlabel('count')\n",
    "# ax.set_ylabel('fold ID')\n",
    "\n",
    "# for cldId in  ax.get_yticks():\n",
    "#   for i,cls in enumerate(['X',\t'M',\t'C',\t'B',\t'quiet']):\n",
    "#     if  cldId == i:\n",
    "#       y = cldId + 0.1*i - 0.25\n",
    "#       val = chunks2foldsAlloc.loc[cls]\n",
    "#       ax.text(val + 2 ,y, f'{val:.0f}', size=8)"
   ]
  },
  {
   "cell_type": "code",
   "execution_count": 11,
   "metadata": {},
   "outputs": [
    {
     "data": {
      "text/plain": [
       "Text(0, 0.5, 'fold ID')"
      ]
     },
     "execution_count": 11,
     "metadata": {},
     "output_type": "execute_result"
    },
    {
     "data": {
      "image/png": "[encoded data removed]",
      "text/plain": [
       "<Figure size 1200x700 with 1 Axes>"
      ]
     },
     "metadata": {},
     "output_type": "display_data"
    }
   ],
   "source": [
    "sns.set(style=\"whitegrid\")\n",
    "figsize=(12, 7)\n",
    "plt.rcParams['font.size'] = 30\n",
    "\n",
    "chunks2foldsAlloc['tot'] = chunks2foldsAlloc['X'] + chunks2foldsAlloc['M'] + chunks2foldsAlloc['C'] + chunks2foldsAlloc['B'] + chunks2foldsAlloc['quiet']\n",
    "for cls in clsBalanceImportance.keys():\n",
    "  chunks2foldsAlloc[cls+'_%'] = np.round(100 * chunks2foldsAlloc[cls] / chunks2foldsAlloc['tot'])\n",
    "\n",
    "ax = chunks2foldsAlloc[['X_%',\t'M_%',\t'C_%',\t'B_%',\t'quiet_%']].plot.barh(figsize=figsize,color = sns.color_palette('coolwarm'))\n",
    "ax.set_title('Fold Balancing Results On 24h time windows')\n",
    "ax.set_xlabel('frequency %')\n",
    "ax.set_ylabel('fold ID')\n",
    "\n",
    "# for foldID in  ax.get_yticks():\n",
    "#   for i,cls in enumerate(classes):\n",
    "#     y = foldID + 0.1*i - 0.25\n",
    "#     val = folds.loc[foldID,cls]\n",
    "#     ax.text(val + 2 ,y, f'{val:.0f}', size='small')"
   ]
  },
  {
   "cell_type": "markdown",
   "metadata": {},
   "source": [
    "## Climatological Rates"
   ]
  },
  {
   "cell_type": "code",
   "execution_count": 4,
   "metadata": {},
   "outputs": [
    {
     "name": "stdout",
     "output_type": "stream",
     "text": [
      "CPU times: user 1.37 ms, sys: 1.82 ms, total: 3.18 ms\n",
      "Wall time: 8.63 ms\n"
     ]
    },
    {
     "data": {
      "text/plain": [
       "{24:            sc  class     cr_mpf   cr_toteh\n",
       " 0         all  quiet  20.165050  20.375825\n",
       " 1          22  quiet  16.790811  16.823197\n",
       " 2          23  quiet  20.732903  20.853142\n",
       " 3          24  quiet  22.937604  23.438984\n",
       " 4      peak24  quiet   6.031235   6.923201\n",
       " 5   SC_25_Asc  quiet  23.963482  24.203734\n",
       " 6         all      B  21.326715  22.261127\n",
       " 7          22      B  19.375175  21.445689\n",
       " 8          23      B  18.594499  20.057715\n",
       " 9          24      B  26.584208  25.725014\n",
       " 10     peak24      B  25.924972  22.646917\n",
       " 11  SC_25_Asc      B  28.219385  28.452773\n",
       " 12        all      C  35.592813  33.439064\n",
       " 13         22      C  33.752186  28.052335\n",
       " 14         23      C  36.898574  35.267023\n",
       " 15         24      C  35.918277  36.768636\n",
       " 16     peak24      C  47.486717  50.107873\n",
       " 17  SC_25_Asc      C  34.411038  32.029105\n",
       " 18        all      M  19.613053  20.091588\n",
       " 19         22      M  25.139797  26.966341\n",
       " 20         23      M  20.542370  20.638562\n",
       " 21         24      M  12.850359  12.406405\n",
       " 22     peak24      M  18.064724  17.900499\n",
       " 23  SC_25_Asc      M  12.252883  14.250412\n",
       " 24        all      X   3.302369   3.832396\n",
       " 25         22      X   4.942030   6.712438\n",
       " 26         23      X   3.231654   3.183559\n",
       " 27         24      X   1.709553   1.660961\n",
       " 28     peak24      X   2.492352   2.421510\n",
       " 29  SC_25_Asc      X   1.153213   1.063976}"
      ]
     },
     "execution_count": 4,
     "metadata": {},
     "output_type": "execute_result"
    }
   ],
   "source": [
    "%%time\n",
    "from sundl.utils.flare import SCs # solar cycles dates\n",
    "\n",
    "if Path(PATH_CR_RATES).exists():\n",
    "  with open(PATH_CR_RATES, 'rb') as f1:\n",
    "    climato_rates = pickle.load(f1)\n",
    "else:\n",
    "  climato_rates = {}\n",
    "  for window_h in windowSizesH:\n",
    "    climato_rates[window_h] = {'sc': [], 'class': [], 'cr_mpf':[], 'cr_toteh': []}\n",
    "    windowsPath = F_PATH_WINDOWS('mpf', window_h)\n",
    "    # fl_history = read_Dataframe_With_Dates(windowsPath)\n",
    "    # All catalog needed\n",
    "    fl_history = windowHistoryFromFlList(flCatalog, \n",
    "                                         window_h = window_h, \n",
    "                                         timeRes_h = 2, \n",
    "                                         minDate =  None, \n",
    "                                         maxDate = None\n",
    "                                         )\n",
    "    \n",
    "    for cls in mpfTresh.keys():\n",
    "      for sc in SCs.keys():\n",
    "        start = SCs[sc][0]\n",
    "        end = SCs[sc][1]\n",
    "        df = fl_history.copy()\n",
    "        if start is not None:\n",
    "          df = df[df.index > start]\n",
    "        if end is not None:\n",
    "          df = df[df.index < end]\n",
    "        n = len(df)\n",
    "        mpf   = len(df[(df['mpf']   >= mpfTresh[cls][0] )            & (df['mpf'] < mpfTresh[cls][1] )]) / n * 100\n",
    "        toteh = len(df[(df['toteh'] >= totehTresh[window_h][cls][0] )& (df['toteh'] < totehTresh[window_h][cls][1] )]) / n  * 100\n",
    "        climato_rates[window_h]['sc'].append(sc)\n",
    "        climato_rates[window_h]['class'].append(cls)\n",
    "        climato_rates[window_h]['cr_mpf'].append(mpf)\n",
    "        climato_rates[window_h]['cr_toteh'].append(toteh)\n",
    "    climato_rates[window_h] = pd.DataFrame(climato_rates[window_h])\n",
    "  with open(PATH_CR_RATES, 'wb') as f1:\n",
    "    pickle.dump(climato_rates, f1)\n",
    "climato_rates"
   ]
  },
  {
   "cell_type": "markdown",
   "metadata": {},
   "source": [
    "## Final Folds (Undersampling)"
   ]
  },
  {
   "cell_type": "markdown",
   "metadata": {},
   "source": [
    "### Computation"
   ]
  },
  {
   "cell_type": "code",
   "execution_count": 6,
   "metadata": {},
   "outputs": [
    {
     "name": "stdout",
     "output_type": "stream",
     "text": [
      "\n",
      "FOLD 0:\n",
      "\n",
      "FOLD 1:\n",
      "\n",
      "FOLD 2:\n",
      "\n",
      "FOLD 3:\n",
      "\n",
      "FOLD 4:\n",
      "\n",
      "\n",
      "FINAL Training FOLDS : \n",
      "\n",
      "\n",
      "FOLD 0: 3323\n",
      "quiet-flares samples: 800 (24.07%)\n",
      "B-flares samples: 800 (24.07%)\n",
      "C-flares samples: 800 (24.07%)\n",
      "M-flares samples: 800 (24.07%)\n",
      "X-flares samples: 123 (3.70%)\n",
      "\n",
      "FOLD 1: 3318\n",
      "quiet-flares samples: 800 (24.11%)\n",
      "B-flares samples: 800 (24.11%)\n",
      "C-flares samples: 800 (24.11%)\n",
      "M-flares samples: 800 (24.11%)\n",
      "X-flares samples: 118 (3.56%)\n",
      "\n",
      "FOLD 2: 3308\n",
      "quiet-flares samples: 800 (24.18%)\n",
      "B-flares samples: 800 (24.18%)\n",
      "C-flares samples: 800 (24.18%)\n",
      "M-flares samples: 800 (24.18%)\n",
      "X-flares samples: 108 (3.26%)\n",
      "\n",
      "FOLD 3: 3310\n",
      "quiet-flares samples: 800 (24.17%)\n",
      "B-flares samples: 800 (24.17%)\n",
      "C-flares samples: 800 (24.17%)\n",
      "M-flares samples: 800 (24.17%)\n",
      "X-flares samples: 110 (3.32%)\n",
      "\n",
      "FOLD 4: 3313\n",
      "quiet-flares samples: 800 (24.15%)\n",
      "B-flares samples: 800 (24.15%)\n",
      "C-flares samples: 800 (24.15%)\n",
      "M-flares samples: 800 (24.15%)\n",
      "X-flares samples: 113 (3.41%)\n",
      "\n",
      "\n",
      "FINAL Validation FOLDS : \n",
      "\n",
      "\n",
      "FOLD 0: 1999\n",
      "quiet-flares samples: 479 (23.96%)\n",
      "B-flares samples: 564 (28.21%)\n",
      "C-flares samples: 688 (34.42%)\n",
      "M-flares samples: 245 (12.26%)\n",
      "X-flares samples: 23 (1.15%)\n",
      "\n",
      "FOLD 1: 1999\n",
      "quiet-flares samples: 479 (23.96%)\n",
      "B-flares samples: 564 (28.21%)\n",
      "C-flares samples: 688 (34.42%)\n",
      "M-flares samples: 245 (12.26%)\n",
      "X-flares samples: 23 (1.15%)\n",
      "\n",
      "FOLD 2: 1999\n",
      "quiet-flares samples: 479 (23.96%)\n",
      "B-flares samples: 564 (28.21%)\n",
      "C-flares samples: 688 (34.42%)\n",
      "M-flares samples: 245 (12.26%)\n",
      "X-flares samples: 23 (1.15%)\n",
      "\n",
      "FOLD 3: 1999\n",
      "quiet-flares samples: 479 (23.96%)\n",
      "B-flares samples: 564 (28.21%)\n",
      "C-flares samples: 688 (34.42%)\n",
      "M-flares samples: 245 (12.26%)\n",
      "X-flares samples: 23 (1.15%)\n",
      "\n",
      "FOLD 4: 1999\n",
      "quiet-flares samples: 479 (23.96%)\n",
      "B-flares samples: 564 (28.21%)\n",
      "C-flares samples: 688 (34.42%)\n",
      "M-flares samples: 245 (12.26%)\n",
      "X-flares samples: 23 (1.15%)\n",
      "CPU times: user 1.08 s, sys: 69.2 ms, total: 1.15 s\n",
      "Wall time: 1.55 s\n"
     ]
    }
   ],
   "source": [
    "%%time\n",
    "from sundl.cv.temporal import sampleFromFolds\n",
    "\n",
    "# validation balance\n",
    "crTag   = 'SC_25_Asc'\n",
    "sizeVal = 2000\n",
    "# training balance\n",
    "clsBinsSizeTrain = {'quiet': 800, # final size *= (n_folds-1) \n",
    "                        'B': 800,\n",
    "                        'C': 800,\n",
    "                        'M': 800,\n",
    "                        'X': 800}\n",
    "\n",
    "for window_h in windowSizesH:\n",
    "  for labelCol in labelCols:\n",
    "    if labelCol == 'mpf':\n",
    "      clsTresholds  = mpfTresh\n",
    "    else:\n",
    "      clsTresholds  = totehTresh[window_h]\n",
    "      \n",
    "  \n",
    "  pathFoldsTrainVal = F_PATH_FOLDS(labelCol, window_h)\n",
    "  pathTest = F_PATH_TEST(labelCol, window_h)\n",
    "  \n",
    "  if pathFoldsTrainVal.exists():\n",
    "    with open(pathFoldsTrainVal, 'rb') as f1:\n",
    "      dfFoldsTrainVal = pickle.load(f1)\n",
    "    dfTest = read_Dataframe_With_Dates(pathTest)\n",
    "  else:\n",
    "    windowsPath = F_PATH_WINDOWS(labelCol, window_h)\n",
    "    chunkPath = F_PATH_CHUNKS(labelCol, window_h)\n",
    "    folldAllocPath = F_PATH_ALLOC(labelCol, window_h)\n",
    "    \n",
    "    # Folds instantitions\n",
    "    fl_history = read_Dataframe_With_Dates(windowsPath)\n",
    "    chunks = read_Dataframe_With_Dates(chunkPath,['start','end'])\n",
    "    chunks2foldsAlloc = read_Dataframe_With_Dates(folldAllocPath)\n",
    "    dfFolds, dfTest = instantiateFolds(fl_history, \n",
    "                                      chunks,\n",
    "                                      chunks2foldsAlloc, \n",
    "                                      testSplitDate, \n",
    "                                      buffer,\n",
    "                                      mpfTresh.keys(),\n",
    "                                      verbose = 0\n",
    "                                      )\n",
    "    \n",
    "    cr = climato_rates[window_h][climato_rates[window_h]['sc']==crTag][['class',f'cr_{labelCol}']].set_index('class')\n",
    "    clsBinsSizeVal = {cls : int(round(sizeVal*cr.loc[cls].values[0]/100)) for cls in clsBinsSizeTrain.keys()}\n",
    "\n",
    "    print('\\n\\nFINAL Training FOLDS : \\n')\n",
    "    dfFoldsBalanced = sampleFromFolds(dfFolds,  balance  = True, clsBinsSize = clsBinsSizeTrain)\n",
    "    print('\\n\\nFINAL Validation FOLDS : \\n')\n",
    "    dfFoldsClimatological = sampleFromFolds(dfFolds, balance  = True, clsBinsSize = clsBinsSizeVal)\n",
    "    \n",
    "    dfFoldsTrainVal = [] #= [(dfTrain, dfVal)]\n",
    "    for k in dfFolds.keys():\n",
    "      dfVal = dfFoldsClimatological[k]\n",
    "      trainIdxs = list(dfFolds.keys())\n",
    "      trainIdxs.remove(k)\n",
    "      for i,trainIdx in enumerate(trainIdxs):\n",
    "        if i==0:\n",
    "          dfTrain = dfFoldsBalanced[trainIdx]\n",
    "        else:\n",
    "          dfTrain = pd.concat([dfTrain,dfFoldsBalanced[trainIdx]],axis=0)\n",
    "      dfFoldsTrainVal.append((dfTrain, dfVal))\n",
    "    with open(pathFoldsTrainVal, 'wb') as f1:\n",
    "      pickle.dump(dfFoldsTrainVal, f1)\n",
    "    dfTest.to_csv(pathTest)"
   ]
  },
  {
   "cell_type": "markdown",
   "metadata": {},
   "source": [
    "### Plot"
   ]
  },
  {
   "cell_type": "code",
   "execution_count": 13,
   "metadata": {},
   "outputs": [
    {
     "name": "stdout",
     "output_type": "stream",
     "text": [
      "13249\n",
      "13254\n",
      "13264\n",
      "13262\n",
      "13259\n"
     ]
    },
    {
     "data": {
      "text/html": [
       "<div>\n",
       "<style scoped>\n",
       "    .dataframe tbody tr th:only-of-type {\n",
       "        vertical-align: middle;\n",
       "    }\n",
       "\n",
       "    .dataframe tbody tr th {\n",
       "        vertical-align: top;\n",
       "    }\n",
       "\n",
       "    .dataframe thead th {\n",
       "        text-align: right;\n",
       "    }\n",
       "</style>\n",
       "<table border=\"1\" class=\"dataframe\">\n",
       "  <thead>\n",
       "    <tr style=\"text-align: right;\">\n",
       "      <th></th>\n",
       "      <th>foldID</th>\n",
       "      <th>X</th>\n",
       "      <th>M</th>\n",
       "      <th>C</th>\n",
       "      <th>B</th>\n",
       "      <th>quiet</th>\n",
       "    </tr>\n",
       "  </thead>\n",
       "  <tbody>\n",
       "    <tr>\n",
       "      <th>0</th>\n",
       "      <td>0</td>\n",
       "      <td>449.0</td>\n",
       "      <td>3200.0</td>\n",
       "      <td>3200.0</td>\n",
       "      <td>3200.0</td>\n",
       "      <td>3200.0</td>\n",
       "    </tr>\n",
       "    <tr>\n",
       "      <th>1</th>\n",
       "      <td>1</td>\n",
       "      <td>454.0</td>\n",
       "      <td>3200.0</td>\n",
       "      <td>3200.0</td>\n",
       "      <td>3200.0</td>\n",
       "      <td>3200.0</td>\n",
       "    </tr>\n",
       "    <tr>\n",
       "      <th>2</th>\n",
       "      <td>2</td>\n",
       "      <td>464.0</td>\n",
       "      <td>3200.0</td>\n",
       "      <td>3200.0</td>\n",
       "      <td>3200.0</td>\n",
       "      <td>3200.0</td>\n",
       "    </tr>\n",
       "    <tr>\n",
       "      <th>3</th>\n",
       "      <td>3</td>\n",
       "      <td>462.0</td>\n",
       "      <td>3200.0</td>\n",
       "      <td>3200.0</td>\n",
       "      <td>3200.0</td>\n",
       "      <td>3200.0</td>\n",
       "    </tr>\n",
       "    <tr>\n",
       "      <th>4</th>\n",
       "      <td>4</td>\n",
       "      <td>459.0</td>\n",
       "      <td>3200.0</td>\n",
       "      <td>3200.0</td>\n",
       "      <td>3200.0</td>\n",
       "      <td>3200.0</td>\n",
       "    </tr>\n",
       "  </tbody>\n",
       "</table>\n",
       "</div>"
      ],
      "text/plain": [
       "   foldID      X       M       C       B   quiet\n",
       "0       0  449.0  3200.0  3200.0  3200.0  3200.0\n",
       "1       1  454.0  3200.0  3200.0  3200.0  3200.0\n",
       "2       2  464.0  3200.0  3200.0  3200.0  3200.0\n",
       "3       3  462.0  3200.0  3200.0  3200.0  3200.0\n",
       "4       4  459.0  3200.0  3200.0  3200.0  3200.0"
      ]
     },
     "execution_count": 13,
     "metadata": {},
     "output_type": "execute_result"
    }
   ],
   "source": [
    "from sundl.utils.flare import class_stats\n",
    "train = pd.DataFrame(dict(**{'foldID' : np.arange(len(dfFoldsTrainVal))},\n",
    "                          **{cls : np.zeros(len(dfFoldsTrainVal)) for cls in clsBalanceImportance.keys()})\n",
    "                    )\n",
    "val = train.copy()\n",
    "\n",
    "for idx,(dfTrain, dfVal) in enumerate(dfFoldsTrainVal):\n",
    "  train.loc[idx,mpfTresh.keys()] = class_stats(dfTrain, colIdCls = 'cls', classes = list(mpfTresh.keys()))[mpfTresh.keys()].sum()\n",
    "  val.loc[idx,mpfTresh.keys()] = class_stats(dfVal, colIdCls = 'cls', classes = list(mpfTresh.keys()))[mpfTresh.keys()].sum()\n",
    "train"
   ]
  },
  {
   "cell_type": "markdown",
   "metadata": {},
   "source": [
    "#### Training"
   ]
  },
  {
   "cell_type": "code",
   "execution_count": 14,
   "metadata": {},
   "outputs": [
    {
     "data": {
      "text/plain": [
       "Text(0.5, 1.0, 'Final Trainin Folds')"
      ]
     },
     "execution_count": 14,
     "metadata": {},
     "output_type": "execute_result"
    },
    {
     "data": {
      "image/png": "[encoded data removed]",
      "text/plain": [
       "<Figure size 1200x700 with 1 Axes>"
      ]
     },
     "metadata": {},
     "output_type": "display_data"
    }
   ],
   "source": [
    "tmp = train.copy()\n",
    "sns.set(style=\"whitegrid\")\n",
    "figsize=(12, 7)\n",
    "classes = ['X','M','C','B','quiet']\n",
    "ax = tmp[classes].plot.barh(figsize=figsize,color = sns.color_palette('coolwarm'))\n",
    "\n",
    "ax.set_xlabel('count')\n",
    "ax.set_ylabel('fold ID')\n",
    "\n",
    "for foldID in  ax.get_yticks():\n",
    "  for i,cls in enumerate(classes):\n",
    "    y = foldID + 0.1*i - 0.25\n",
    "    value = tmp.loc[foldID,cls]\n",
    "    ax.text(value + 2 ,y, f'{value:.0f}', size='x-small')\n",
    "\n",
    "plt.rcParams['font.size'] = 30\n",
    "\n",
    "ax.set_title('Final Trainin Folds')"
   ]
  },
  {
   "cell_type": "markdown",
   "metadata": {},
   "source": [
    "#### Validation"
   ]
  },
  {
   "cell_type": "code",
   "execution_count": 15,
   "metadata": {},
   "outputs": [
    {
     "data": {
      "text/plain": [
       "Text(0.5, 1.0, 'Final Trainin Folds')"
      ]
     },
     "execution_count": 15,
     "metadata": {},
     "output_type": "execute_result"
    },
    {
     "data": {
      "image/png": "[encoded data removed]",
      "text/plain": [
       "<Figure size 1200x700 with 1 Axes>"
      ]
     },
     "metadata": {},
     "output_type": "display_data"
    }
   ],
   "source": [
    "tmp = val.copy()\n",
    "sns.set(style=\"whitegrid\")\n",
    "figsize=(12, 7)\n",
    "classes = ['X','M','C','B','quiet']\n",
    "ax = tmp[classes].plot.barh(figsize=figsize,color = sns.color_palette('coolwarm'))\n",
    "\n",
    "ax.set_xlabel('count')\n",
    "ax.set_ylabel('fold ID')\n",
    "\n",
    "for foldID in  ax.get_yticks():\n",
    "  for i,cls in enumerate(classes):\n",
    "    y = foldID + 0.1*i - 0.25\n",
    "    value = tmp.loc[foldID,cls]\n",
    "    ax.text(value + 2 ,y, f'{value:.0f}', size='x-small')\n",
    "\n",
    "plt.rcParams['font.size'] = 30\n",
    "\n",
    "ax.set_title('Final Trainin Folds')"
   ]
  },
  {
   "cell_type": "code",
   "execution_count": null,
   "metadata": {},
   "outputs": [],
   "source": []
  }
 ],
 "metadata": {
  "kernelspec": {
   "display_name": "Python 3",
   "language": "python",
   "name": "python3"
  },
  "language_info": {
   "codemirror_mode": {
    "name": "ipython",
    "version": 3
   },
   "file_extension": ".py",
   "mimetype": "text/x-python",
   "name": "python",
   "nbconvert_exporter": "python",
   "pygments_lexer": "ipython3",
   "version": "3.11.7"
  }
 },
 "nbformat": 4,
 "nbformat_minor": 2
}
